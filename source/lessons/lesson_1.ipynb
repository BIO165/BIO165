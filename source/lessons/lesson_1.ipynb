{
 "cells": [
  {
   "cell_type": "markdown",
   "metadata": {},
   "source": [
    "# Lesson 1: Getting started with Python and GitHub\n",
    "\n",
    "## Getting Python and Jupyter notebooks to run\n",
    "\n",
    "We highly recommend getting Python and Jupyter to run on your own computer. There are several variable possibilities to get Python and different packages to work on your own computer. If you have not yet installed Python on your computer we recommend Anaconda, https://www.anaconda.com . To install Anaconda, download the most recent Anaconda package and follow the instalation instructions. To view and edit Jupyter notebooks we recommend Jupyter lab. You can start Jupyter lab from the Anaconda launcher.\n",
    "\n",
    "If you already have Python installed, you can alternatively add Jupyter using your prerfered package manager.\n",
    "\n",
    "Let us know if you encounter problems during the installation and we will look into this together during the first dry lab. \n"
   ]
  },
  {
   "cell_type": "markdown",
   "metadata": {},
   "source": [
    "## Starting with GitHub\n",
    "\n",
    "During this class, we will use GitHub to share code and analysis procedures. GitHub is a very powerful developing platform which allows the convinient hosting, documentation, and sharing of code, analysis procedures, and findings. In preparation, please obtain a GitHub account. \n",
    "\n",
    "To exchange content between your computer and the GitHub servers without the need for the comando prompt, we recomend GitHub Desktop. To install, follow the instructions and log into your GitHub account. https://desktop.github.com\n",
    "\n",
    "Once done, please provide your GitHub account name to the instructures. We will share GitHub repositories containing data and notebooks very soon.\n"
   ]
  },
  {
   "cell_type": "markdown",
   "metadata": {},
   "source": [
    "## Getting used to Jupyter\n",
    "\n",
    "You will get used to Jupyter in the first dry lab. Below are some additional ressources. \n",
    "\n",
    "- There are two types of cells in Jupyter. Coding cells to run analysis and calculations. And Markdown cells to provide further documentation. The Markdown cells support the Markdown syntax which allows you to easily format text. https://www.markdownguide.org/basic-syntax/\n",
    "\n",
    "```\n",
    "---\n",
    "\n",
    "All creative work is licensed under a Creative Commons [CC-BY 4.0](https://creativecommons.org/licenses/by/4.0/) license. All \n",
    "code herein is released under a standard [MIT license](https://choosealicense.com/licenses/mit/).\n",
    "\n",
    "```"
   ]
  },
  {
   "cell_type": "raw",
   "metadata": {},
   "source": [
    "\n",
    "This is an example notebook that has only markdown text. It is written as a Jupyter notebook, but with no real code cells. This is useful if you only need to put together prose without plots or \n",
    "computations. You can still put in images using the [normal markdown syntax](https://www.markdownguide.org/basic-syntax/), but they must reference images within the `data` \n",
    "subdirectory. For example, the following markdown\n",
    "\n",
    "```\n",
    "![Alt text for image -- be accesible!](data/example_figure_1.png)\n",
    "```\n",
    "shows this image:\n",
    "\n",
    "\n",
    "![Alt text for image -- be accessible!](data/example_figure_1.png)\n",
    "\n",
    "\n",
    "You can use inline mathematics typeset in LaTeX using single dollar signs `$ f(x) $` \n",
    "which yields: $f(x)$. Wrapping it in double dollar signs `$$` yields a linebreak\n",
    "with an equation\n",
    "\n",
    "$$\n",
    "L = \\lim \\limits_{h\\rightarrow 0} \\frac{f(a + h) - f(a)}{h}.\n",
    "$$\n",
    "\n",
    "To have an equation numbered, you must include a `\\tag{NUMBER}` along with the equation. \n",
    "For example, the following markdown\n",
    "```\n",
    "$$ \n",
    "\\int\\limits_{-\\inf}^{+\\inf} e^{-a(x + b)^2} dx = \\sqrt{\\frac{\\pi}{a}}. \\tag{1}\n",
    "$$\n",
    "```\n",
    "produces\n",
    "$$\n",
    "\\int\\limits_{-\\inf}^{+\\inf} e^{-a(x + b)^2} dx = \\sqrt{\\frac{\\pi}{a}}. \\tag{1}\n",
    "\n",
    "$$\n"
   ]
  }
 ],
 "metadata": {
  "kernelspec": {
   "display_name": "Python 3 (ipykernel)",
   "language": "python",
   "name": "python3"
  },
  "language_info": {
   "codemirror_mode": {
    "name": "ipython",
    "version": 3
   },
   "file_extension": ".py",
   "mimetype": "text/x-python",
   "name": "python",
   "nbconvert_exporter": "python",
   "pygments_lexer": "ipython3",
   "version": "3.11.0"
  }
 },
 "nbformat": 4,
 "nbformat_minor": 4
}
