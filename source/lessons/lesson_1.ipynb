{
 "cells": [
  {
   "cell_type": "markdown",
   "metadata": {},
   "source": [
    "# Lesson 1: Getting started with Python and GitHub\n",
    "\n",
    "## Getting Python and Jupyter notebooks to run\n",
    "\n",
    "We highly recommend getting Python and Jupyter to run on your own computer. There are several variable possibilities to get Python and different packages to work on your own computer. If you have not yet installed Python on your computer we recommend Anaconda ( https://www.anaconda.com ). To install Anaconda, download the most recent Anaconda package and follow the instalation instructions. To view and edit Jupyter notebooks we recommend Jupyter lab. You can start Jupyter lab from the Anaconda launcher.\n",
    "\n",
    "If you already have Python installed and are familiar, you can alternatively add Jupyter using your prerfered package manager.\n",
    "\n",
    "Let us know if you encounter problems during the installation and we will look into this together with you during the first dry lab. \n"
   ]
  },
  {
   "cell_type": "markdown",
   "metadata": {},
   "source": [
    "## Starting with GitHub\n",
    "\n",
    "GitHub is a very powerful developing platform which allows the convinient hosting, documentation, and sharing of code, analysis procedures, and findings. In preparation, please obtain a GitHub account. During this class, we will use GitHub to share problem sets and solutions, as well as the biological data included. \n",
    "\n",
    "To exchange content between your computer and the GitHub servers without the need for the comando prompt, we recomend GitHub Desktop. To install, follow the instructions and log into your GitHub account. https://desktop.github.com\n",
    "\n",
    "Once done, please provide your GitHub account name to the instructors. We will share GitHub repositories containing data and notebooks very soon.\n",
    "\n",
    "Note: GitHub can do much more than just code sharing. For example, this course documentation website was generated with GitHub, builing on a template provided by Griffin Chure. Depending on your interest, we can dive into these website hosting abilities. \n"
   ]
  },
  {
   "cell_type": "markdown",
   "metadata": {},
   "source": [
    "## Getting confortable with Jupyter and GitHub\n",
    "\n",
    "You will get to use Jupyter and GitHub during the first dry lab. The best recipe to become more confortable with these tools is to use them and during the course you will have many oportonities to do so. But if you prefer some more structure introductions, below are some additional ressources.\n",
    "\n",
    "\n",
    "\n",
    "- There are two types of cells in Jupyter. Coding cells to run analysis and calculations. And Markdown cells to provide further documentation. The Markdown cells support the Markdown syntax which allows you to easily format text. https://www.markdownguide.org/basic-syntax/\n",
    "- Add aditional...\n",
    "\n"
   ]
  },
  {
   "cell_type": "raw",
   "metadata": {},
   "source": [
    "```\n",
    "---\n",
    "\n",
    "All creative work is licensed under a Creative Commons [CC-BY 4.0](https://creativecommons.org/licenses/by/4.0/) license. All \n",
    "code herein is released under a standard [MIT license](https://choosealicense.com/licenses/mit/).\n",
    "\n",
    "```\n"
   ]
  },
  {
   "cell_type": "code",
   "execution_count": null,
   "metadata": {},
   "outputs": [],
   "source": []
  }
 ],
 "metadata": {
  "kernelspec": {
   "display_name": "Python 3 (ipykernel)",
   "language": "python",
   "name": "python3"
  },
  "language_info": {
   "codemirror_mode": {
    "name": "ipython",
    "version": 3
   },
   "file_extension": ".py",
   "mimetype": "text/x-python",
   "name": "python",
   "nbconvert_exporter": "python",
   "pygments_lexer": "ipython3",
   "version": "3.11.0"
  }
 },
 "nbformat": 4,
 "nbformat_minor": 4
}
